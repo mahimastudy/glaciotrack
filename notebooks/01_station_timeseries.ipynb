{
 "cells": [
  {
   "cell_type": "code",
   "execution_count": null,
   "id": "1cc5c879",
   "metadata": {
    "vscode": {
     "languageId": "plaintext"
    }
   },
   "outputs": [],
   "source": [
    "import pandas as pd\n",
    "import matplotlib.pyplot as plt\n",
    "import plotly.express as px\n",
    "\n",
    "# Load mock data\n",
    "df = pd.read_csv(\"../data/fairbanks_mock_neu.csv\", parse_dates=[\"date\"])\n",
    "\n",
    "# Matplotlib static plot\n",
    "plt.figure(figsize=(12, 6))\n",
    "plt.plot(df[\"date\"], df[\"up_mm\"], label=\"Up (Vertical)\")\n",
    "plt.plot(df[\"date\"], df[\"north_mm\"], label=\"North\")\n",
    "plt.plot(df[\"date\"], df[\"east_mm\"], label=\"East\")\n",
    "plt.title(\"Fairbanks VLBI Displacement Time Series\")\n",
    "plt.xlabel(\"Date\")\n",
    "plt.ylabel(\"Displacement (mm)\")\n",
    "plt.legend()\n",
    "plt.grid(True)\n",
    "plt.show()\n",
    "\n",
    "# Optional: Plotly interactive plot\n",
    "fig = px.line(df, x=\"date\", y=[\"north_mm\", \"east_mm\", \"up_mm\"],\n",
    "              title=\"Fairbanks VLBI Station NEU Time Series\")\n",
    "fig.show()\n",
    "\n"
   ]
  }
 ],
 "metadata": {
  "language_info": {
   "name": "python"
  }
 },
 "nbformat": 4,
 "nbformat_minor": 5
}
